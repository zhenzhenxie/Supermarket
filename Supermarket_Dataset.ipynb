{
 "cells": [
  {
   "cell_type": "code",
   "execution_count": 197,
   "metadata": {},
   "outputs": [],
   "source": [
    "import pandas as pd\n",
    "import matplotlib.pyplot as plt"
   ]
  },
  {
   "cell_type": "code",
   "execution_count": 198,
   "metadata": {},
   "outputs": [
    {
     "data": {
      "text/html": [
       "<div>\n",
       "<style scoped>\n",
       "    .dataframe tbody tr th:only-of-type {\n",
       "        vertical-align: middle;\n",
       "    }\n",
       "\n",
       "    .dataframe tbody tr th {\n",
       "        vertical-align: top;\n",
       "    }\n",
       "\n",
       "    .dataframe thead th {\n",
       "        text-align: right;\n",
       "    }\n",
       "</style>\n",
       "<table border=\"1\" class=\"dataframe\">\n",
       "  <thead>\n",
       "    <tr style=\"text-align: right;\">\n",
       "      <th></th>\n",
       "      <th>Category</th>\n",
       "      <th>City</th>\n",
       "      <th>Country</th>\n",
       "      <th>Customer Name</th>\n",
       "      <th>Manufacturer</th>\n",
       "      <th>Order Date</th>\n",
       "      <th>Order ID</th>\n",
       "      <th>Postal Code</th>\n",
       "      <th>Product Name</th>\n",
       "      <th>Region</th>\n",
       "      <th>...</th>\n",
       "      <th>Ship Date</th>\n",
       "      <th>Ship Mode</th>\n",
       "      <th>State</th>\n",
       "      <th>Sub-Category</th>\n",
       "      <th>Discount</th>\n",
       "      <th>Number of Records</th>\n",
       "      <th>Profit</th>\n",
       "      <th>Profit Ratio</th>\n",
       "      <th>Quantity</th>\n",
       "      <th>Sales</th>\n",
       "    </tr>\n",
       "  </thead>\n",
       "  <tbody>\n",
       "    <tr>\n",
       "      <th>0</th>\n",
       "      <td>Office Supplies</td>\n",
       "      <td>Houston</td>\n",
       "      <td>United States</td>\n",
       "      <td>Darren Powers</td>\n",
       "      <td>Message Book</td>\n",
       "      <td>2013-01-03</td>\n",
       "      <td>CA-2011-103800</td>\n",
       "      <td>77095</td>\n",
       "      <td>Message Book, Wirebound, Four 5 1/2\" X 4\" Form...</td>\n",
       "      <td>Central</td>\n",
       "      <td>...</td>\n",
       "      <td>2013-01-07</td>\n",
       "      <td>Standard Class</td>\n",
       "      <td>Texas</td>\n",
       "      <td>Paper</td>\n",
       "      <td>0.2</td>\n",
       "      <td>1</td>\n",
       "      <td>$6</td>\n",
       "      <td>0.34</td>\n",
       "      <td>2</td>\n",
       "      <td>$16</td>\n",
       "    </tr>\n",
       "    <tr>\n",
       "      <th>1</th>\n",
       "      <td>Office Supplies</td>\n",
       "      <td>Naperville</td>\n",
       "      <td>United States</td>\n",
       "      <td>Phillina Ober</td>\n",
       "      <td>Avery</td>\n",
       "      <td>2013-01-04</td>\n",
       "      <td>CA-2011-112326</td>\n",
       "      <td>60540</td>\n",
       "      <td>Avery 508</td>\n",
       "      <td>Central</td>\n",
       "      <td>...</td>\n",
       "      <td>2013-01-08</td>\n",
       "      <td>Standard Class</td>\n",
       "      <td>Illinois</td>\n",
       "      <td>Labels</td>\n",
       "      <td>0.2</td>\n",
       "      <td>1</td>\n",
       "      <td>$4</td>\n",
       "      <td>0.36</td>\n",
       "      <td>3</td>\n",
       "      <td>$12</td>\n",
       "    </tr>\n",
       "    <tr>\n",
       "      <th>2</th>\n",
       "      <td>Office Supplies</td>\n",
       "      <td>Naperville</td>\n",
       "      <td>United States</td>\n",
       "      <td>Phillina Ober</td>\n",
       "      <td>SAFCO</td>\n",
       "      <td>2013-01-04</td>\n",
       "      <td>CA-2011-112326</td>\n",
       "      <td>60540</td>\n",
       "      <td>SAFCO Boltless Steel Shelving</td>\n",
       "      <td>Central</td>\n",
       "      <td>...</td>\n",
       "      <td>2013-01-08</td>\n",
       "      <td>Standard Class</td>\n",
       "      <td>Illinois</td>\n",
       "      <td>Storage</td>\n",
       "      <td>0.2</td>\n",
       "      <td>1</td>\n",
       "      <td>-$65</td>\n",
       "      <td>-0.24</td>\n",
       "      <td>3</td>\n",
       "      <td>$273</td>\n",
       "    </tr>\n",
       "    <tr>\n",
       "      <th>3</th>\n",
       "      <td>Office Supplies</td>\n",
       "      <td>Naperville</td>\n",
       "      <td>United States</td>\n",
       "      <td>Phillina Ober</td>\n",
       "      <td>GBC</td>\n",
       "      <td>2013-01-04</td>\n",
       "      <td>CA-2011-112326</td>\n",
       "      <td>60540</td>\n",
       "      <td>GBC Standard Plastic Binding Systems Combs</td>\n",
       "      <td>Central</td>\n",
       "      <td>...</td>\n",
       "      <td>2013-01-08</td>\n",
       "      <td>Standard Class</td>\n",
       "      <td>Illinois</td>\n",
       "      <td>Binders</td>\n",
       "      <td>0.8</td>\n",
       "      <td>1</td>\n",
       "      <td>-$5</td>\n",
       "      <td>-1.55</td>\n",
       "      <td>2</td>\n",
       "      <td>$4</td>\n",
       "    </tr>\n",
       "    <tr>\n",
       "      <th>4</th>\n",
       "      <td>Office Supplies</td>\n",
       "      <td>Philadelphia</td>\n",
       "      <td>United States</td>\n",
       "      <td>Mick Brown</td>\n",
       "      <td>Avery</td>\n",
       "      <td>2013-01-05</td>\n",
       "      <td>CA-2011-141817</td>\n",
       "      <td>19143</td>\n",
       "      <td>Avery Hi-Liter EverBold Pen Style Fluorescent ...</td>\n",
       "      <td>East</td>\n",
       "      <td>...</td>\n",
       "      <td>2013-01-12</td>\n",
       "      <td>Standard Class</td>\n",
       "      <td>Pennsylvania</td>\n",
       "      <td>Art</td>\n",
       "      <td>0.2</td>\n",
       "      <td>1</td>\n",
       "      <td>$5</td>\n",
       "      <td>0.25</td>\n",
       "      <td>3</td>\n",
       "      <td>$20</td>\n",
       "    </tr>\n",
       "    <tr>\n",
       "      <th>...</th>\n",
       "      <td>...</td>\n",
       "      <td>...</td>\n",
       "      <td>...</td>\n",
       "      <td>...</td>\n",
       "      <td>...</td>\n",
       "      <td>...</td>\n",
       "      <td>...</td>\n",
       "      <td>...</td>\n",
       "      <td>...</td>\n",
       "      <td>...</td>\n",
       "      <td>...</td>\n",
       "      <td>...</td>\n",
       "      <td>...</td>\n",
       "      <td>...</td>\n",
       "      <td>...</td>\n",
       "      <td>...</td>\n",
       "      <td>...</td>\n",
       "      <td>...</td>\n",
       "      <td>...</td>\n",
       "      <td>...</td>\n",
       "      <td>...</td>\n",
       "    </tr>\n",
       "    <tr>\n",
       "      <th>9989</th>\n",
       "      <td>Technology</td>\n",
       "      <td>New York City</td>\n",
       "      <td>United States</td>\n",
       "      <td>Patrick O'Donnell</td>\n",
       "      <td>Other</td>\n",
       "      <td>2016-12-30</td>\n",
       "      <td>CA-2014-143259</td>\n",
       "      <td>10009</td>\n",
       "      <td>Gear Head AU3700S Headset</td>\n",
       "      <td>East</td>\n",
       "      <td>...</td>\n",
       "      <td>2017-01-03</td>\n",
       "      <td>Standard Class</td>\n",
       "      <td>New York</td>\n",
       "      <td>Phones</td>\n",
       "      <td>0.0</td>\n",
       "      <td>1</td>\n",
       "      <td>$3</td>\n",
       "      <td>0.03</td>\n",
       "      <td>7</td>\n",
       "      <td>$91</td>\n",
       "    </tr>\n",
       "    <tr>\n",
       "      <th>9990</th>\n",
       "      <td>Office Supplies</td>\n",
       "      <td>New York City</td>\n",
       "      <td>United States</td>\n",
       "      <td>Patrick O'Donnell</td>\n",
       "      <td>Wilson Jones</td>\n",
       "      <td>2016-12-30</td>\n",
       "      <td>CA-2014-143259</td>\n",
       "      <td>10009</td>\n",
       "      <td>Wilson Jones Legal Size Ring Binders</td>\n",
       "      <td>East</td>\n",
       "      <td>...</td>\n",
       "      <td>2017-01-03</td>\n",
       "      <td>Standard Class</td>\n",
       "      <td>New York</td>\n",
       "      <td>Binders</td>\n",
       "      <td>0.2</td>\n",
       "      <td>1</td>\n",
       "      <td>$20</td>\n",
       "      <td>0.38</td>\n",
       "      <td>3</td>\n",
       "      <td>$53</td>\n",
       "    </tr>\n",
       "    <tr>\n",
       "      <th>9991</th>\n",
       "      <td>Office Supplies</td>\n",
       "      <td>Fairfield</td>\n",
       "      <td>United States</td>\n",
       "      <td>Erica Bern</td>\n",
       "      <td>Cardinal</td>\n",
       "      <td>2016-12-30</td>\n",
       "      <td>CA-2014-115427</td>\n",
       "      <td>94533</td>\n",
       "      <td>Cardinal Slant-D Ring Binder, Heavy Gauge Vinyl</td>\n",
       "      <td>West</td>\n",
       "      <td>...</td>\n",
       "      <td>2017-01-03</td>\n",
       "      <td>Standard Class</td>\n",
       "      <td>California</td>\n",
       "      <td>Binders</td>\n",
       "      <td>0.2</td>\n",
       "      <td>1</td>\n",
       "      <td>$5</td>\n",
       "      <td>0.33</td>\n",
       "      <td>2</td>\n",
       "      <td>$14</td>\n",
       "    </tr>\n",
       "    <tr>\n",
       "      <th>9992</th>\n",
       "      <td>Office Supplies</td>\n",
       "      <td>Fairfield</td>\n",
       "      <td>United States</td>\n",
       "      <td>Erica Bern</td>\n",
       "      <td>GBC</td>\n",
       "      <td>2016-12-30</td>\n",
       "      <td>CA-2014-115427</td>\n",
       "      <td>94533</td>\n",
       "      <td>GBC Binding covers</td>\n",
       "      <td>West</td>\n",
       "      <td>...</td>\n",
       "      <td>2017-01-03</td>\n",
       "      <td>Standard Class</td>\n",
       "      <td>California</td>\n",
       "      <td>Binders</td>\n",
       "      <td>0.2</td>\n",
       "      <td>1</td>\n",
       "      <td>$6</td>\n",
       "      <td>0.31</td>\n",
       "      <td>2</td>\n",
       "      <td>$21</td>\n",
       "    </tr>\n",
       "    <tr>\n",
       "      <th>9993</th>\n",
       "      <td>Office Supplies</td>\n",
       "      <td>Loveland</td>\n",
       "      <td>United States</td>\n",
       "      <td>Jill Matthias</td>\n",
       "      <td>Other</td>\n",
       "      <td>2016-12-30</td>\n",
       "      <td>CA-2014-156720</td>\n",
       "      <td>80538</td>\n",
       "      <td>Bagged Rubber Bands</td>\n",
       "      <td>West</td>\n",
       "      <td>...</td>\n",
       "      <td>2017-01-03</td>\n",
       "      <td>Standard Class</td>\n",
       "      <td>Colorado</td>\n",
       "      <td>Fasteners</td>\n",
       "      <td>0.2</td>\n",
       "      <td>1</td>\n",
       "      <td>-$1</td>\n",
       "      <td>-0.20</td>\n",
       "      <td>3</td>\n",
       "      <td>$3</td>\n",
       "    </tr>\n",
       "  </tbody>\n",
       "</table>\n",
       "<p>9994 rows × 21 columns</p>\n",
       "</div>"
      ],
      "text/plain": [
       "             Category           City        Country      Customer Name  \\\n",
       "0     Office Supplies        Houston  United States      Darren Powers   \n",
       "1     Office Supplies     Naperville  United States      Phillina Ober   \n",
       "2     Office Supplies     Naperville  United States      Phillina Ober   \n",
       "3     Office Supplies     Naperville  United States      Phillina Ober   \n",
       "4     Office Supplies   Philadelphia  United States         Mick Brown   \n",
       "...               ...            ...            ...                ...   \n",
       "9989       Technology  New York City  United States  Patrick O'Donnell   \n",
       "9990  Office Supplies  New York City  United States  Patrick O'Donnell   \n",
       "9991  Office Supplies      Fairfield  United States         Erica Bern   \n",
       "9992  Office Supplies      Fairfield  United States         Erica Bern   \n",
       "9993  Office Supplies       Loveland  United States      Jill Matthias   \n",
       "\n",
       "      Manufacturer Order Date        Order ID  Postal Code  \\\n",
       "0     Message Book 2013-01-03  CA-2011-103800        77095   \n",
       "1            Avery 2013-01-04  CA-2011-112326        60540   \n",
       "2            SAFCO 2013-01-04  CA-2011-112326        60540   \n",
       "3              GBC 2013-01-04  CA-2011-112326        60540   \n",
       "4            Avery 2013-01-05  CA-2011-141817        19143   \n",
       "...            ...        ...             ...          ...   \n",
       "9989         Other 2016-12-30  CA-2014-143259        10009   \n",
       "9990  Wilson Jones 2016-12-30  CA-2014-143259        10009   \n",
       "9991      Cardinal 2016-12-30  CA-2014-115427        94533   \n",
       "9992           GBC 2016-12-30  CA-2014-115427        94533   \n",
       "9993         Other 2016-12-30  CA-2014-156720        80538   \n",
       "\n",
       "                                           Product Name   Region  ...  \\\n",
       "0     Message Book, Wirebound, Four 5 1/2\" X 4\" Form...  Central  ...   \n",
       "1                                             Avery 508  Central  ...   \n",
       "2                         SAFCO Boltless Steel Shelving  Central  ...   \n",
       "3            GBC Standard Plastic Binding Systems Combs  Central  ...   \n",
       "4     Avery Hi-Liter EverBold Pen Style Fluorescent ...     East  ...   \n",
       "...                                                 ...      ...  ...   \n",
       "9989                          Gear Head AU3700S Headset     East  ...   \n",
       "9990               Wilson Jones Legal Size Ring Binders     East  ...   \n",
       "9991    Cardinal Slant-D Ring Binder, Heavy Gauge Vinyl     West  ...   \n",
       "9992                                 GBC Binding covers     West  ...   \n",
       "9993                                Bagged Rubber Bands     West  ...   \n",
       "\n",
       "      Ship Date       Ship Mode         State Sub-Category Discount  \\\n",
       "0    2013-01-07  Standard Class         Texas        Paper      0.2   \n",
       "1    2013-01-08  Standard Class      Illinois       Labels      0.2   \n",
       "2    2013-01-08  Standard Class      Illinois      Storage      0.2   \n",
       "3    2013-01-08  Standard Class      Illinois      Binders      0.8   \n",
       "4    2013-01-12  Standard Class  Pennsylvania          Art      0.2   \n",
       "...         ...             ...           ...          ...      ...   \n",
       "9989 2017-01-03  Standard Class      New York       Phones      0.0   \n",
       "9990 2017-01-03  Standard Class      New York      Binders      0.2   \n",
       "9991 2017-01-03  Standard Class    California      Binders      0.2   \n",
       "9992 2017-01-03  Standard Class    California      Binders      0.2   \n",
       "9993 2017-01-03  Standard Class      Colorado    Fasteners      0.2   \n",
       "\n",
       "      Number of Records  Profit Profit Ratio  Quantity  Sales  \n",
       "0                     1      $6         0.34         2    $16  \n",
       "1                     1      $4         0.36         3    $12  \n",
       "2                     1    -$65        -0.24         3   $273  \n",
       "3                     1     -$5        -1.55         2     $4  \n",
       "4                     1      $5         0.25         3    $20  \n",
       "...                 ...     ...          ...       ...    ...  \n",
       "9989                  1      $3         0.03         7    $91  \n",
       "9990                  1     $20         0.38         3    $53  \n",
       "9991                  1      $5         0.33         2    $14  \n",
       "9992                  1      $6         0.31         2    $21  \n",
       "9993                  1     -$1        -0.20         3     $3  \n",
       "\n",
       "[9994 rows x 21 columns]"
      ]
     },
     "execution_count": 198,
     "metadata": {},
     "output_type": "execute_result"
    }
   ],
   "source": [
    "df_supermarket = pd.read_excel('Supermarket_Dataset.xlsx')\n",
    "df_supermarket"
   ]
  },
  {
   "cell_type": "code",
   "execution_count": 222,
   "metadata": {},
   "outputs": [
    {
     "name": "stdout",
     "output_type": "stream",
     "text": [
      "Index(['Category', 'City', 'Country', 'Customer Name', 'Manufacturer',\n",
      "       'Order Date', 'Order ID', 'Postal Code', 'Product Name', 'Region',\n",
      "       'Segment', 'Ship Date', 'Ship Mode', 'State', 'Sub-Category',\n",
      "       'Discount', 'Number of Records', 'Profit', 'Profit Ratio', 'Quantity',\n",
      "       'Sales', 'year'],\n",
      "      dtype='object')\n",
      "(9994, 22)\n",
      "Category                     object\n",
      "City                         object\n",
      "Country                      object\n",
      "Customer Name                object\n",
      "Manufacturer                 object\n",
      "Order Date           datetime64[ns]\n",
      "Order ID                     object\n",
      "Postal Code                   int64\n",
      "Product Name                 object\n",
      "Region                       object\n",
      "Segment                      object\n",
      "Ship Date            datetime64[ns]\n",
      "Ship Mode                    object\n",
      "State                        object\n",
      "Sub-Category                 object\n",
      "Discount                    float64\n",
      "Number of Records             int64\n",
      "Profit                      float64\n",
      "Profit Ratio                float64\n",
      "Quantity                      int64\n",
      "Sales                        object\n",
      "year                          int32\n",
      "dtype: object\n",
      "int64\n"
     ]
    }
   ],
   "source": [
    "print(df_supermarket.columns)\n",
    "print(df_supermarket.shape)\n",
    "print(df_supermarket.dtypes)\n"
   ]
  },
  {
   "cell_type": "code",
   "execution_count": 200,
   "metadata": {},
   "outputs": [
    {
     "data": {
      "text/plain": [
       "0.1562027216329798"
      ]
     },
     "execution_count": 200,
     "metadata": {},
     "output_type": "execute_result"
    }
   ],
   "source": [
    "df_supermarket['Discount'].mean()"
   ]
  },
  {
   "cell_type": "code",
   "execution_count": 201,
   "metadata": {},
   "outputs": [
    {
     "data": {
      "text/plain": [
       "Category             0\n",
       "City                 0\n",
       "Country              0\n",
       "Customer Name        0\n",
       "Manufacturer         0\n",
       "Order Date           0\n",
       "Order ID             0\n",
       "Postal Code          0\n",
       "Product Name         0\n",
       "Region               0\n",
       "Segment              0\n",
       "Ship Date            0\n",
       "Ship Mode            0\n",
       "State                0\n",
       "Sub-Category         0\n",
       "Discount             0\n",
       "Number of Records    0\n",
       "Profit               0\n",
       "Profit Ratio         0\n",
       "Quantity             0\n",
       "Sales                0\n",
       "dtype: int64"
      ]
     },
     "execution_count": 201,
     "metadata": {},
     "output_type": "execute_result"
    }
   ],
   "source": [
    "null_count = df_supermarket.isna().sum()\n",
    "null_count"
   ]
  },
  {
   "cell_type": "code",
   "execution_count": 202,
   "metadata": {},
   "outputs": [
    {
     "data": {
      "text/plain": [
       "'California'"
      ]
     },
     "execution_count": 202,
     "metadata": {},
     "output_type": "execute_result"
    }
   ],
   "source": [
    "df_supermarket['State'].value_counts().idxmax()"
   ]
  },
  {
   "cell_type": "code",
   "execution_count": 203,
   "metadata": {},
   "outputs": [
    {
     "name": "stdout",
     "output_type": "stream",
     "text": [
      "49\n"
     ]
    }
   ],
   "source": [
    "print(df_supermarket['State'].nunique())"
   ]
  },
  {
   "cell_type": "code",
   "execution_count": 204,
   "metadata": {},
   "outputs": [
    {
     "name": "stdout",
     "output_type": "stream",
     "text": [
      "2016\n",
      "12503\n"
     ]
    }
   ],
   "source": [
    "# Convert order date to datetime\n",
    "df_supermarket['Order Date'] = pd.to_datetime(df_supermarket['Order Date'])\n",
    "\n",
    "# Extract the year into a new column\n",
    "df_supermarket['year'] = df_supermarket['Order Date'].dt.year\n",
    "\n",
    "#Group by year and sum the items sold\n",
    "yearly_sales = df_supermarket.groupby('year')['Quantity'].sum()\n",
    "\n",
    "# Find the year with the most items sold\n",
    "best_year = yearly_sales.idxmax()\n",
    "max_items = yearly_sales.max()\n",
    "\n",
    "print(best_year)\n",
    "print(max_items)"
   ]
  },
  {
   "cell_type": "code",
   "execution_count": 205,
   "metadata": {},
   "outputs": [
    {
     "name": "stdout",
     "output_type": "stream",
     "text": [
      "Product Name\n",
      "\"While you Were Out\" Message Book, One Form per Page                                                    10.0\n",
      "#10 Gummed Flap White Envelopes, 100/Box                                                                17.0\n",
      "#10 Self-Seal White Envelopes                                                                           52.0\n",
      "#10 White Business Envelopes,4 1/8 x 9 1/2                                                             224.0\n",
      "#10- 4 1/8\" x 9 1/2\" Recycled Envelopes                                                                115.0\n",
      "                                                                                                       ...  \n",
      "iKross Bluetooth Portable Keyboard + Cell Phone Stand Holder + Brush for Apple iPhone 5S 5C 5, 4S 4    116.0\n",
      "iOttie HLCRIO102 Car Mount                                                                             -12.0\n",
      "iOttie XL Car Mount                                                                                    -50.0\n",
      "invisibleSHIELD by ZAGG Smudge-Free Screen Protector                                                   170.0\n",
      "netTALK DUO VoIP Telephone Service                                                                     429.0\n",
      "Name: Profit, Length: 1850, dtype: float64\n"
     ]
    },
    {
     "data": {
      "image/png": "[encoded data removed]",
      "text/plain": [
       "<Figure size 640x480 with 1 Axes>"
      ]
     },
     "metadata": {},
     "output_type": "display_data"
    },
    {
     "data": {
      "image/png": "[encoded data removed]",
      "text/plain": [
       "<Figure size 640x480 with 1 Axes>"
      ]
     },
     "metadata": {},
     "output_type": "display_data"
    }
   ],
   "source": [
    "# clean the 'profit' column: remove $, convert to float\n",
    "df_supermarket['Profit'] = df_supermarket['Profit'].map(lambda x: x.replace('$', '').replace(\",\", \"\")).astype(float)\n",
    "\n",
    "\n",
    "# Group by product name and sum the profit\n",
    "product_profit = df_supermarket.groupby('Product Name')['Profit'].sum()\n",
    "print(product_profit)\n",
    "\n",
    "# get top 5 products by profit\n",
    "top5_product = product_profit.sort_values(ascending=False).head(5)\n",
    "top5_product.plot(kind='bar')\n",
    "plt.show()\n",
    "\n",
    "# plot discount vs profit\n",
    "df_supermarket.plot(kind='scatter', x='Discount', y='Profit')\n",
    "plt.show()\n",
    "\n"
   ]
  },
  {
   "cell_type": "code",
   "execution_count": 206,
   "metadata": {},
   "outputs": [
    {
     "data": {
      "image/png": "[encoded data removed]",
      "text/plain": [
       "<Figure size 640x480 with 1 Axes>"
      ]
     },
     "metadata": {},
     "output_type": "display_data"
    }
   ],
   "source": [
    "df_supermarket['year'] = pd.to_datetime(df_supermarket['Order Date']).dt.year\n",
    "df_2013 = df_supermarket[df_supermarket['year'] == 2013]\n",
    "\n",
    "# Group by month and sum the quantity\n",
    "monthly_sales = df_2013.groupby(df_2013['Order Date'].dt.month)['Quantity'].sum()\n",
    "monthly_sales\n",
    "\n",
    "monthly_sales.plot(kind='line')\n",
    "plt.show()"
   ]
  },
  {
   "cell_type": "code",
   "execution_count": 207,
   "metadata": {},
   "outputs": [
    {
     "data": {
      "text/plain": [
       "-2.75"
      ]
     },
     "execution_count": 207,
     "metadata": {},
     "output_type": "execute_result"
    }
   ],
   "source": [
    "df_supermarket['Profit Ratio'].min()"
   ]
  },
  {
   "cell_type": "code",
   "execution_count": 208,
   "metadata": {},
   "outputs": [
    {
     "data": {
      "text/plain": [
       "Discount\n",
       "0.00    18267\n",
       "0.10      373\n",
       "0.15      198\n",
       "0.20    13660\n",
       "0.30      849\n",
       "0.32      105\n",
       "0.40      786\n",
       "0.45       45\n",
       "0.50      241\n",
       "0.60      501\n",
       "0.70     1660\n",
       "0.80     1188\n",
       "Name: Quantity, dtype: int64"
      ]
     },
     "execution_count": 208,
     "metadata": {},
     "output_type": "execute_result"
    }
   ],
   "source": [
    "discount_sales = df_supermarket.groupby(['Discount'])['Quantity'].sum()\n",
    "discount_sales"
   ]
  },
  {
   "cell_type": "code",
   "execution_count": 220,
   "metadata": {},
   "outputs": [
    {
     "name": "stdout",
     "output_type": "stream",
     "text": [
      "0.2\n",
      "13660\n"
     ]
    }
   ],
   "source": [
    "# Exclude discount at 0\n",
    "df_nonzero = df_supermarket[df_supermarket['Discount'] != 0]\n",
    "\n",
    "# Group by discount and sum quantity\n",
    "discount_qty = df_nonzero.groupby(['Discount'])['Quantity'].sum()\n",
    "\n",
    "# Get the discount with the highest total quantity sold\n",
    "top_discount = discount_qty.idxmax()\n",
    "top_discount_qty = discount_qty.max()\n",
    "\n",
    "print(top_discount)\n",
    "print(top_discount_qty)\n",
    "\n",
    "\n"
   ]
  },
  {
   "cell_type": "code",
   "execution_count": 221,
   "metadata": {},
   "outputs": [
    {
     "name": "stdout",
     "output_type": "stream",
     "text": [
      "Staples\n",
      "133\n"
     ]
    }
   ],
   "source": [
    "# filter dataset to only top discount value\n",
    "df_top_discount = df_nonzero[df_nonzero['Discount'] == top_discount]\n",
    "\n",
    "# Group by product and sum quantity\n",
    "product_sales = df_top_discount.groupby(['Product Name'])['Quantity'].sum()\n",
    "\n",
    "# Get product with the highest quantity sold\n",
    "top_product = product_sales.idxmax()\n",
    "top_product_qty = product_sales.max()\n",
    "\n",
    "print(top_product)\n",
    "print(top_product_qty)"
   ]
  }
 ],
 "metadata": {
  "kernelspec": {
   "display_name": "Python 3",
   "language": "python",
   "name": "python3"
  },
  "language_info": {
   "codemirror_mode": {
    "name": "ipython",
    "version": 3
   },
   "file_extension": ".py",
   "mimetype": "text/x-python",
   "name": "python",
   "nbconvert_exporter": "python",
   "pygments_lexer": "ipython3",
   "version": "3.11.4"
  },
  "orig_nbformat": 4
 },
 "nbformat": 4,
 "nbformat_minor": 2
}
